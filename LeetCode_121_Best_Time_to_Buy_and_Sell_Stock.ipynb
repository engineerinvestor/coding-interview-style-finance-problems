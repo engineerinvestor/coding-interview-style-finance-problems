{
  "nbformat": 4,
  "nbformat_minor": 0,
  "metadata": {
    "colab": {
      "provenance": [],
      "authorship_tag": "ABX9TyP868gvPnj2A653a9l9mJdx",
      "include_colab_link": true
    },
    "kernelspec": {
      "name": "python3",
      "display_name": "Python 3"
    },
    "language_info": {
      "name": "python"
    }
  },
  "cells": [
    {
      "cell_type": "markdown",
      "metadata": {
        "id": "view-in-github",
        "colab_type": "text"
      },
      "source": [
        "<a href=\"https://colab.research.google.com/github/engineerinvestor/coding-interview-style-finance-problems/blob/main/LeetCode_121_Best_Time_to_Buy_and_Sell_Stock.ipynb\" target=\"_parent\"><img src=\"https://colab.research.google.com/assets/colab-badge.svg\" alt=\"Open In Colab\"/></a>"
      ]
    },
    {
      "cell_type": "markdown",
      "source": [
        "# LeetCode 121: Best Time to Buy and Sell Stock\n",
        "\n",
        "Name: Engineer Investor ([@egr_investor](https://twitter.com/egr_investor))\n",
        "\n",
        "Date: 05/14/2024\n",
        "\n",
        "Source: [121: Best Time to Buy and Sell Stock](https://leetcode.com/problems/best-time-to-buy-and-sell-stock/description/)"
      ],
      "metadata": {
        "id": "c4sXccia8h2I"
      }
    },
    {
      "cell_type": "markdown",
      "source": [
        "## Problem\n",
        "\n",
        "You are given an array prices where `prices[i]` is the price of a given stock on the ith day.\n",
        "\n",
        "You want to maximize your profit by choosing a single day to buy one stock and choosing a different day in the future to sell that stock.\n",
        "\n",
        "Return the maximum profit you can achieve from this transaction. If you cannot achieve any profit, `return 0`.\n",
        "\n",
        "### Example 1:\n",
        "\n",
        "Input: prices = `[7,1,5,3,6,4]`\n",
        "\n",
        "Output: 5\n",
        "\n",
        "Explanation: Buy on day 2 (price = 1) and sell on day 5 (price = 6), `profit = 6-1 = 5`.\n",
        "\n",
        "Note that buying on day 2 and selling on day 1 is not allowed because you must buy before you sell.\n",
        "\n",
        "### Example 2:\n",
        "\n",
        "Input: prices = `[7,6,4,3,1]`\n",
        "\n",
        "Output: 0\n",
        "\n",
        "Explanation: In this case, no transactions are done and the `max profit = 0`.\n",
        "\n",
        "\n",
        "### Constraints:\n",
        "\n",
        "`1 <= prices.length <= 10^5`\n",
        "\n",
        "`0 <= prices[i] <= 10^4`\n",
        "\n"
      ],
      "metadata": {
        "id": "y3jnTLHG89XU"
      }
    },
    {
      "cell_type": "markdown",
      "source": [
        "## Code Solution"
      ],
      "metadata": {
        "id": "82hGmBL1_r7q"
      }
    },
    {
      "cell_type": "code",
      "source": [
        "import time\n",
        "import resource\n",
        "from typing import List"
      ],
      "metadata": {
        "id": "4pQl3zWP8bkm"
      },
      "execution_count": 23,
      "outputs": []
    },
    {
      "cell_type": "code",
      "source": [
        "# Example input\n",
        "prices = [7,1,5,3,6,4]"
      ],
      "metadata": {
        "id": "rJLnbiBY_wny"
      },
      "execution_count": 24,
      "outputs": []
    },
    {
      "cell_type": "markdown",
      "source": [
        "### Solution A: Slightly more memory efficient"
      ],
      "metadata": {
        "id": "pDmaPOC5YBzB"
      }
    },
    {
      "cell_type": "code",
      "source": [
        "def maxProfit(prices: List[int]) -> int:\n",
        "\n",
        "    min_price = prices[0]\n",
        "    max_profit = 0\n",
        "\n",
        "    for price in prices[1:]:\n",
        "\n",
        "        max_profit = max(max_profit, price - min_price)\n",
        "        min_price = min(min_price, price)\n",
        "\n",
        "    return max_profit"
      ],
      "metadata": {
        "id": "Vq-F63AMX_mC"
      },
      "execution_count": 25,
      "outputs": []
    },
    {
      "cell_type": "code",
      "source": [
        "max_profit_A = maxProfit(prices)\n",
        "\n",
        "print(f'Solution A: {max_profit_B}')"
      ],
      "metadata": {
        "colab": {
          "base_uri": "https://localhost:8080/"
        },
        "id": "TeSlte5mYHUc",
        "outputId": "3cfdfd67-ee6d-4ef7-b357-6f0ab272d0bb"
      },
      "execution_count": 26,
      "outputs": [
        {
          "output_type": "stream",
          "name": "stdout",
          "text": [
            "Solution A: 5\n"
          ]
        }
      ]
    },
    {
      "cell_type": "code",
      "source": [
        "# Run the function and capture the time and memory usage\n",
        "start_time = time.time()\n",
        "max_profit_A = maxProfit(prices)\n",
        "end_time = time.time()\n",
        "\n",
        "# Calculate the time taken\n",
        "time_taken = end_time - start_time\n",
        "\n",
        "# Get the memory usage\n",
        "memory_usage = resource.getrusage(resource.RUSAGE_SELF).ru_maxrss\n",
        "\n",
        "# Print the results\n",
        "print(f\"Time taken: {time_taken:.5f} seconds\")\n",
        "# print(f\"Memory usage: {memory_usage / 1024:.2f} MB\")"
      ],
      "metadata": {
        "colab": {
          "base_uri": "https://localhost:8080/"
        },
        "id": "f5-6oM7MAjL4",
        "outputId": "c7584e1f-dce4-43f5-8b6d-b8a9b0d15b10"
      },
      "execution_count": 27,
      "outputs": [
        {
          "output_type": "stream",
          "name": "stdout",
          "text": [
            "Time taken: 0.00020 seconds\n"
          ]
        }
      ]
    },
    {
      "cell_type": "markdown",
      "source": [
        "### Big O Analysis\n",
        "\n",
        "Let's analyze the time and space complexity of the given solution.\n",
        "\n",
        "#### Time Complexity\n",
        "\n",
        "The time complexity of the solution can be determined by analyzing the main operations performed in the loop.\n",
        "\n",
        "1. **Initialization**:\n",
        "   - Initializing `min_price` and `max_profit` takes constant time, $O(1)$.\n",
        "\n",
        "2. **Loop**:\n",
        "   - The loop iterates through the `prices` list exactly once. This results in a linear time complexity relative to the length of the list, $O(n)$, where $n$ is the number of elements in the `prices` list.\n",
        "   - Inside the loop, both the `max` and `min` operations take constant time, $O(1)$.\n",
        "\n",
        "Combining these, the overall time complexity of the function is $O(n)$.\n",
        "\n",
        "#### Space Complexity\n",
        "\n",
        "The space complexity of the solution can be determined by analyzing the extra space used by the algorithm.\n",
        "\n",
        "1. **Variables**:\n",
        "   - The function uses a constant amount of extra space to store the variables `min_price` and `max_profit`, which requires $O(1)$ space.\n",
        "\n",
        "2. **Input List**:\n",
        "   - The input list `prices` is not modified and no additional data structures are used that scale with the input size.\n",
        "\n",
        "Therefore, the overall space complexity of the function is $O(1)$.\n",
        "\n",
        "#### Summary\n",
        "\n",
        "- **Time Complexity**: $O(n)$\n",
        "- **Space Complexity**: $O(1)$\n",
        "\n",
        "This means that the function efficiently computes the maximum profit in linear time while using a constant amount of extra space."
      ],
      "metadata": {
        "id": "M5peGVhsBGVG"
      }
    },
    {
      "cell_type": "markdown",
      "source": [
        "#### Explanation\n",
        "\n",
        "This solution is designed to solve the problem of finding the maximum profit you can achieve from a list of stock prices, where you can only buy and sell once.\n",
        "\n",
        "Here’s a step-by-step explanation:\n",
        "\n",
        "1. **Initialization**:\n",
        "    - `min_price` is initialized to the first element in the `prices` list. This variable keeps track of the minimum price encountered so far, which represents the best day to buy the stock up to the current day in the loop.\n",
        "    - `max_profit` is initialized to 0. This variable stores the maximum profit found so far.\n",
        "\n",
        "2. **Loop through prices**:\n",
        "    - The for loop iterates through the prices list starting from the second element (`prices[1:]`).\n",
        "\n",
        "3. **Calculate potential profit**:\n",
        "    - In each iteration, it calculates the potential profit for selling on the current day (`price`) and buying on the day when the `min_price` was recorded (`price - min_price`).\n",
        "\n",
        "4. **Update max profit**:\n",
        "    - It updates `max_profit` to be the maximum of the current `max_profit` and the newly calculated potential profit.\n",
        "\n",
        "5. **Update minimum price**:\n",
        "    - It updates `min_price` to be the minimum of the current `min_price` and the current `price`, ensuring that `min_price` always holds the lowest price encountered so far.\n",
        "\n",
        "6. **Return result**:\n",
        "    - After completing the loop, it returns `max_profit`, which now contains the maximum profit that can be achieved by buying and selling once.\n",
        "\n",
        "### Example Walkthrough\n",
        "\n",
        "Consider the prices list `[7, 1, 5, 3, 6, 4]`.\n",
        "\n",
        "- Initialize `min_price` to 7 and `max_profit` to 0.\n",
        "- Iterate through the list:\n",
        "  - `price = 1`:\n",
        "    - Update `max_profit`: `max(0, 1 - 7) = 0`\n",
        "    - Update `min_price`: `min(7, 1) = 1`\n",
        "  - `price = 5`:\n",
        "    - Update `max_profit`: `max(0, 5 - 1) = 4`\n",
        "    - `min_price` remains 1.\n",
        "  - `price = 3`:\n",
        "    - `max_profit` remains 4: `max(4, 3 - 1) = 4`\n",
        "    - `min_price` remains 1.\n",
        "  - `price = 6`:\n",
        "    - Update `max_profit`: `max(4, 6 - 1) = 5`\n",
        "    - `min_price` remains 1.\n",
        "  - `price = 4`:\n",
        "    - `max_profit` remains 5: `max(5, 4 - 1) = 5`\n",
        "    - `min_price` remains 1.\n",
        "\n",
        "Finally, the function returns `max_profit`, which is 5, representing the maximum profit possible by buying on day 2 (price = 1) and selling on day 5 (price = 6)."
      ],
      "metadata": {
        "id": "VGrPehcgA76G"
      }
    },
    {
      "cell_type": "markdown",
      "source": [
        "### Solution B: Slightly faster speed"
      ],
      "metadata": {
        "id": "70eGjSNiX7u5"
      }
    },
    {
      "cell_type": "code",
      "execution_count": 28,
      "metadata": {
        "id": "ODaeaFKEXwGR"
      },
      "outputs": [],
      "source": [
        "def maxProfit(prices: List[int]) -> int:\n",
        "\n",
        "    min_price = float('inf')\n",
        "    max_profit = 0\n",
        "\n",
        "    for price in prices:\n",
        "        if price < min_price:\n",
        "            min_price = price\n",
        "        profit = price - min_price\n",
        "        if profit > max_profit:\n",
        "            max_profit = profit\n",
        "\n",
        "    return max_profit"
      ]
    },
    {
      "cell_type": "code",
      "source": [
        "max_profit_B = maxProfit(prices)\n",
        "\n",
        "print(f'Solution B: {max_profit_A}')"
      ],
      "metadata": {
        "colab": {
          "base_uri": "https://localhost:8080/"
        },
        "id": "2KJ99duM_4ff",
        "outputId": "1fd87548-9c12-4927-c921-f90f893005b9"
      },
      "execution_count": 29,
      "outputs": [
        {
          "output_type": "stream",
          "name": "stdout",
          "text": [
            "Solution B: 5\n"
          ]
        }
      ]
    },
    {
      "cell_type": "markdown",
      "source": [
        "#### Profile the time and memory usage of running the function"
      ],
      "metadata": {
        "id": "mswmCqgjAcXX"
      }
    },
    {
      "cell_type": "code",
      "source": [
        "# Run the function and capture the time and memory usage\n",
        "start_time = time.time()\n",
        "max_profit_B = maxProfit(prices)\n",
        "end_time = time.time()\n",
        "\n",
        "# Calculate the time taken\n",
        "time_taken = end_time - start_time\n",
        "\n",
        "# Get the memory usage\n",
        "memory_usage = resource.getrusage(resource.RUSAGE_SELF).ru_maxrss\n",
        "\n",
        "# Print the results\n",
        "print(f\"Time taken: {time_taken:.5f} seconds\")\n",
        "# print(f\"Memory usage: {memory_usage / 1024:.2f} MB\")"
      ],
      "metadata": {
        "colab": {
          "base_uri": "https://localhost:8080/"
        },
        "id": "aAXyM-RhAFdR",
        "outputId": "78dbb0df-fb3b-46b0-d76d-4226d063ee3a"
      },
      "execution_count": 30,
      "outputs": [
        {
          "output_type": "stream",
          "name": "stdout",
          "text": [
            "Time taken: 0.00016 seconds\n"
          ]
        }
      ]
    }
  ]
}